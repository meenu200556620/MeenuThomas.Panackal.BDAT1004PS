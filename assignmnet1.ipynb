{
 "cells": [
  {
   "cell_type": "markdown",
   "id": "408b0d84",
   "metadata": {},
   "source": [
    "# Assignment1\n",
    "\n",
    "## Question 1\n",
    "\n"
   ]
  },
  {
   "cell_type": "code",
   "execution_count": 9,
   "id": "99903937",
   "metadata": {},
   "outputs": [
    {
     "ename": "NameError",
     "evalue": "name 'pi' is not defined",
     "output_type": "error",
     "traceback": [
      "\u001b[1;31m---------------------------------------------------------------------------\u001b[0m",
      "\u001b[1;31mNameError\u001b[0m                                 Traceback (most recent call last)",
      "Cell \u001b[1;32mIn[9], line 24\u001b[0m\n\u001b[0;32m     22\u001b[0m \u001b[38;5;241m5\u001b[39m\u001b[38;5;241m==\u001b[39m\u001b[38;5;241m3\u001b[39m\n\u001b[0;32m     23\u001b[0m \u001b[38;5;66;03m#data type: bool\u001b[39;00m\n\u001b[1;32m---> 24\u001b[0m \u001b[43mpi\u001b[49m (\u001b[38;5;241m3.14\u001b[39m)\n",
      "\u001b[1;31mNameError\u001b[0m: name 'pi' is not defined"
     ]
    }
   ],
   "source": [
    "#What data type is each of the following (evaluate where necessary)?\n",
    "5\n",
    "#data type: integer\n",
    "5.0\n",
    "#data type: float\n",
    "5>1\n",
    "#data type: bool\n",
    "'5'\n",
    "#data type: string\n",
    "5*2\n",
    "#data type: integer\n",
    "'5'*2\n",
    "#data type: string\n",
    "'5'+'2'\n",
    "#data type: string\n",
    "5/2\n",
    "#data type:float\n",
    "5%2\n",
    "#datat type: integer\n",
    "{5,2,1}\n",
    "#data type: set\n",
    "5==3\n",
    "#data type: bool\n",
    "pi (3.14)\n",
    "#data type: float"
   ]
  },
  {
   "cell_type": "markdown",
   "id": "69c7a562",
   "metadata": {},
   "source": [
    "# Question 2\n",
    "# Write (and evaluate) python expressions that answer these questions:\n",
    "# a. How many letters are there in 'Supercalifragilisticexpialidocious'?\n",
    "\n",
    "\n",
    " \n",
    "\n",
    "\n",
    "\n",
    "    \n",
    "\n",
    "\n"
   ]
  },
  {
   "cell_type": "code",
   "execution_count": 10,
   "id": "6d358e3b",
   "metadata": {},
   "outputs": [
    {
     "name": "stdout",
     "output_type": "stream",
     "text": [
      "############## a ############\n",
      "Number of letters in the word Supercalifragilisticexpialidocious is : 34\n"
     ]
    }
   ],
   "source": [
    "print('############## a ############')\n",
    "tmp='Supercalifragilisticexpialidocious'\n",
    "number_of_letters=len(tmp)\n",
    "print('Number of letters in the word Supercalifragilisticexpialidocious is : '+ str(number_of_letters))"
   ]
  },
  {
   "cell_type": "markdown",
   "id": "13dcae9b",
   "metadata": {},
   "source": [
    "# b. Does 'Supercalifragilisticexpialidocious' contain 'ice' as a substring?"
   ]
  },
  {
   "cell_type": "code",
   "execution_count": 11,
   "id": "ebed4e6e",
   "metadata": {},
   "outputs": [
    {
     "name": "stdout",
     "output_type": "stream",
     "text": [
      "########## b #################\n",
      "ice is a substring\n"
     ]
    }
   ],
   "source": [
    "#we can use 'in' to find substirng exists or not\n",
    "print('########## b #################')\n",
    "tmp='Supercalifragilisticexpialidocious'\n",
    "if('ice' in 'Supercalifragilisticexpialidocious'):\n",
    "    print('ice is a substring')\n",
    "else:\n",
    "    print('ice is not a substring')\n"
   ]
  },
  {
   "cell_type": "markdown",
   "id": "35f773c1",
   "metadata": {},
   "source": [
    "# c. Which of the following words is the longest:Supercalifragilisticexpialidocious, Honorificabilitudinitatibus, or\n",
    "# Bababadalgharaghtakamminarronnkonn? "
   ]
  },
  {
   "cell_type": "code",
   "execution_count": 12,
   "id": "97cabe8a",
   "metadata": {},
   "outputs": [
    {
     "name": "stdout",
     "output_type": "stream",
     "text": [
      "########### c ##############\n",
      "longest word is Bababadalgharaghtakamminarronnkonn\n"
     ]
    }
   ],
   "source": [
    "print('########### c ##############')\n",
    "tmp1='Supercalifragilisticexpialidocious'\n",
    "tmp2='Honorificabilitudinitatibus'\n",
    "tmp3='Bababadalgharaghtakamminarronnkonn'\n",
    "len1=len(tmp1)\n",
    "len2=len(tmp2)\n",
    "len3=len(tmp3)\n",
    "if(len1>len2) and (len1>len3):\n",
    "    print('longest word is ' + tmp1)\n",
    "elif(len2>len3):\n",
    "    print('longest word is ' + tmp2)\n",
    "else:\n",
    "    print('longest word is '+ tmp3)"
   ]
  },
  {
   "cell_type": "markdown",
   "id": "de019e53",
   "metadata": {},
   "source": [
    "# d.Which composer comes first in the dictionary: 'Berlioz', 'Borodin', 'Brian',\n",
    "# 'Bartok', 'Bellini', 'Buxtehude', 'Bernstein'. Which one comes last?\n",
    "# lets put all this words in a list and use the method sort()"
   ]
  },
  {
   "cell_type": "code",
   "execution_count": 13,
   "id": "e03555b2",
   "metadata": {},
   "outputs": [
    {
     "name": "stdout",
     "output_type": "stream",
     "text": [
      "['Berlioz', 'Borodin', 'Brian', 'Bartok', 'Bellini', 'Buxtehude', 'Bernstein']\n",
      "sortred list is \n",
      "['Bartok', 'Bellini', 'Berlioz', 'Bernstein', 'Borodin', 'Brian', 'Buxtehude']\n",
      "Bartok\n",
      "Buxtehude\n"
     ]
    }
   ],
   "source": [
    "\n",
    "lst=['Berlioz', 'Borodin', 'Brian','Bartok', 'Bellini', 'Buxtehude', 'Bernstein']\n",
    "print(lst)\n",
    "lst.sort()\n",
    "print('sortred list is ')\n",
    "print(lst)\n",
    "print(lst[0])\n",
    "print(lst[-1])"
   ]
  },
  {
   "cell_type": "markdown",
   "id": "162fd89d",
   "metadata": {},
   "source": [
    "# Question3\n",
    "# Implement function triangleArea(a,b,c) that takes as input the lengths of the 3\n",
    "# sides of a triangle and returns the area of the triangle. By Heron's formula, the area\n",
    "# of a triangle with side lengths a, b, and c is\n",
    "# s(s - a)(s -b)(s -c), where s = (a+b+c)/2.\n",
    "        "
   ]
  },
  {
   "cell_type": "code",
   "execution_count": 17,
   "id": "12d3aca3",
   "metadata": {},
   "outputs": [
    {
     "name": "stdout",
     "output_type": "stream",
     "text": [
      "2\n",
      "2\n",
      "2\n",
      "1.7320508075688772\n"
     ]
    }
   ],
   "source": [
    "import math\n",
    "a=int(input())\n",
    "b=int(input())\n",
    "c=int(input())\n",
    "\n",
    "def triangleArea(a,b,c):\n",
    "    s=(a+b+c)/2\n",
    "    area=math.sqrt(s*(s-a)*(s-b)*(s-c))\n",
    "    print(area)\n",
    "triangleArea(a,b,c)"
   ]
  },
  {
   "cell_type": "markdown",
   "id": "9f634a57",
   "metadata": {},
   "source": [
    "# Question4\n",
    "# Write a program in python to separate odd and even integers in separate arrays.\n",
    "\n"
   ]
  },
  {
   "cell_type": "code",
   "execution_count": 18,
   "id": "2cfabddf",
   "metadata": {},
   "outputs": [
    {
     "name": "stdout",
     "output_type": "stream",
     "text": [
      "Enter the number of elements to be sorted in the array5\n",
      "element0:\n",
      "25\n",
      "element1:\n",
      "47\n",
      "element2:\n",
      "42\n",
      "element3:\n",
      "56\n",
      "element4:\n",
      "32\n",
      "The even elemets are :  [42, 56, 32]\n",
      "The odd elemnts are :  [25, 47]\n"
     ]
    }
   ],
   "source": [
    "lst=[]\n",
    "num=int(input('Enter the number of elements to be sorted in the array'))\n",
    "for i in range (0,num):\n",
    "    print('element'+str(i)+':')\n",
    "    el=int(input())\n",
    "    lst.append(el)\n",
    "evenlst=[]\n",
    "oddlst=[]\n",
    "for i in lst:\n",
    "    if (i%2==0):\n",
    "        evenlst.append(i)\n",
    "    else:\n",
    "        oddlst.append(i)\n",
    "print('The even elemets are : ', evenlst)\n",
    "print('The odd elemnts are : ',oddlst)\n"
   ]
  },
  {
   "cell_type": "markdown",
   "id": "8811dd59",
   "metadata": {},
   "source": [
    "# Question 5\n",
    "# a. Write a function inside(x,y,x1,y1,x2,y2) that returns True or False\n",
    "# depending on whether the point (x,y) lies in the rectangle with lower left\n",
    "# corner (x1,y1) and upper right corner (x2,y2)."
   ]
  },
  {
   "cell_type": "code",
   "execution_count": 29,
   "id": "c38ef1b8",
   "metadata": {},
   "outputs": [],
   "source": [
    "\n",
    "\n",
    "def inside(x,y,x1,y1,x2,y2):\n",
    "    if(x>x1 and x<x2):\n",
    "        if(y>y1 and y<y2):\n",
    "            return True\n",
    "    else:\n",
    "        return False\n",
    "\n",
    "        "
   ]
  },
  {
   "cell_type": "code",
   "execution_count": 30,
   "id": "aa17d427",
   "metadata": {},
   "outputs": [
    {
     "data": {
      "text/plain": [
       "False"
      ]
     },
     "execution_count": 30,
     "metadata": {},
     "output_type": "execute_result"
    }
   ],
   "source": [
    "inside(-1,-1,0,0,2,3)\n"
   ]
  },
  {
   "cell_type": "markdown",
   "id": "3c61b6a9",
   "metadata": {},
   "source": [
    "# b.Use function inside() from part a. to write an expression that tests whether\n",
    "# the point (1,1) lies in both of the following rectangles: one with lower left\n",
    "# corner (0.3, 0.5) and upper right corner (1.1, 0.7) and the other with lower\n",
    "# left corner (0.5, 0.2) and upper right corner (1.1, 2). "
   ]
  },
  {
   "cell_type": "code",
   "execution_count": 31,
   "id": "8d30e0fe",
   "metadata": {},
   "outputs": [
    {
     "data": {
      "text/plain": [
       "True"
      ]
     },
     "execution_count": 31,
     "metadata": {},
     "output_type": "execute_result"
    }
   ],
   "source": [
    "inside(1,1,0.3,0.5,1.1,0.7)\n",
    "inside(1,1,0.5,0.2,1.1,2)\n",
    "        "
   ]
  },
  {
   "cell_type": "markdown",
   "id": "0de4f9a4",
   "metadata": {},
   "source": [
    "# Question 6\n",
    "# 16. You can turn a word into pig-Latin using the following two rules (simplified):\n",
    "# • If the word starts with a consonant, move that letter to the end and append\n",
    "# 'ay'. For example, 'happy' becomes 'appyhay' and 'pencil' becomes 'encilpay'.\n",
    "# • If the word starts with a vowel, simply append 'way' to the end of the word.\n",
    "# For example, 'enter' becomes 'enterway' and 'other' becomes 'otherway' . For\n",
    "# our purposes, there are 5 vowels: a, e, i, o, u (so we count y as a consonant).\n",
    "# Write a function pig() that takes a word (i.e., a string) as input and returns its pigLatin form. Your function should still work if the input word contains upper case\n",
    "# characters. Your output should always be lower case however. "
   ]
  },
  {
   "cell_type": "code",
   "execution_count": 89,
   "id": "406445d1",
   "metadata": {},
   "outputs": [],
   "source": [
    "def pig(wrd):\n",
    "    wrd=wrd.lower()\n",
    "    firstrd = wrd[0:1] + 'ay'\n",
    "    \n",
    "    vow=['a','e','i','o','u']\n",
    "    if wrd[0] in vow:\n",
    "        wrd=wrd+'way'\n",
    "    else:\n",
    "        wrd = wrd[1:] + firstrd \n",
    "        return wrd\n",
    "\n",
    "    \n",
    "    \n"
   ]
  },
  {
   "cell_type": "code",
   "execution_count": 90,
   "id": "5fa3bb80",
   "metadata": {},
   "outputs": [],
   "source": [
    "pig('Enter')"
   ]
  },
  {
   "cell_type": "code",
   "execution_count": 91,
   "id": "c5a8e4fc",
   "metadata": {},
   "outputs": [
    {
     "data": {
      "text/plain": [
       "'appyhay'"
      ]
     },
     "execution_count": 91,
     "metadata": {},
     "output_type": "execute_result"
    }
   ],
   "source": [
    "pig('happy')"
   ]
  },
  {
   "cell_type": "markdown",
   "id": "5c7ffab7",
   "metadata": {},
   "source": [
    "# Question 7\n",
    "# File bloodtype1.txt records blood-types of patients (A, B, AB, O or OO) at a clinic.\n",
    "# Write a function bldcount() that reads the file with name name and reports (i.e.,\n",
    "# prints) how many patients there are in each bloodtype.\n"
   ]
  },
  {
   "cell_type": "code",
   "execution_count": 96,
   "id": "d041849d",
   "metadata": {},
   "outputs": [
    {
     "name": "stdout",
     "output_type": "stream",
     "text": [
      "There are 15 patients of blood type A.\n",
      "There are 1 patients of blood type B.\n",
      "There are 13 patients of blood type AB.\n",
      "There are 15 patients of blood type O.\n",
      "There are no patients of blood type OO.\n"
     ]
    }
   ],
   "source": [
    "def bldcount(name):\n",
    "    infile=open(name, 'r')\n",
    "    fl= infile.read()\n",
    "    infile.close()\n",
    "    fl=fl.split()\n",
    "    bldtype = ['A','B','AB','O','OO']\n",
    "    for i in bldtype:\n",
    "        if fl.count(i)==0:\n",
    "            print('There are no patients of blood type',i+'.')\n",
    "        else:\n",
    "            print('There are',fl.count(i),'patients of blood type', i+'.')\n",
    "bldcount('bloodtype.txt')"
   ]
  },
  {
   "cell_type": "markdown",
   "id": "23107b51",
   "metadata": {},
   "source": [
    "# Write a function curconv() that takes as input:\n",
    "# 1. a currency represented using a string (e.g., 'JPY' for the Japanese Yen or\n",
    "# 'EUR' for the Euro)\n",
    "# 2. an amount\n",
    "# and then converts and returns the amount in US dollars.\n"
   ]
  },
  {
   "cell_type": "code",
   "execution_count": 98,
   "id": "faa36869",
   "metadata": {},
   "outputs": [],
   "source": [
    "def curconv(curr, amt):\n",
    "    dct = {'CHF':1.0237414,'CNY':0.1550176,'DKK':0.1651442 ,'EUR':1.2296544,'GBP':1.5550989,'SEK':0.148269,\n",
    "               'INR':0.0177643,'JPY':0.01241401,'MXN':0.0751848,'MYR':0.3145411 ,'NOK':0.1677063,'AUD':1.0345157,\n",
    "               'NZD':0.8003591,'PHP':0.0233234,'SGD':0.788871,'THB':0.0313789,'HKD':0.1270207}\n",
    "    if curr in dct:\n",
    "        conv = dct[curr]*amt\n",
    "        print(conv)\n",
    "\n",
    "        "
   ]
  },
  {
   "cell_type": "code",
   "execution_count": 99,
   "id": "a3475bc9",
   "metadata": {},
   "outputs": [
    {
     "name": "stdout",
     "output_type": "stream",
     "text": [
      "122.96544\n"
     ]
    }
   ],
   "source": [
    "curconv('EUR',100)"
   ]
  },
  {
   "cell_type": "code",
   "execution_count": 100,
   "id": "00db654f",
   "metadata": {},
   "outputs": [
    {
     "name": "stdout",
     "output_type": "stream",
     "text": [
      "1.241401\n"
     ]
    }
   ],
   "source": [
    "\n",
    "curconv('JPY', 100)"
   ]
  },
  {
   "cell_type": "markdown",
   "id": "1ed50589",
   "metadata": {},
   "source": [
    "# Question 9\n",
    "# Each of the following will cause an exception (an error). Identify what type of # exception each will cause."
   ]
  },
  {
   "cell_type": "code",
   "execution_count": null,
   "id": "7e8b7968",
   "metadata": {},
   "outputs": [],
   "source": [
    "#Trying to add incompatible variables, as in\n",
    "6 + ‘a’   \n",
    "#unsupported operand type(s) for +: 'int' and 'str'\n",
    "\n",
    "#Referring to the 12th item of a list that has only 10 items.\n",
    "lst = [1,2,3,4,5,6,7,8,9,10]\n",
    "lst[12]  \n",
    "#list index out of range\n",
    "\n",
    "#Using a value that is out of range for a function’s input.\n",
    "import math\n",
    "math.sqrt(-1.0)  \n",
    "#math domain error\n",
    "\n",
    "\n",
    "#Using an undeclared variable, such as print(x)\n",
    "print(x)   \n",
    "#name 'x' is not defined\n",
    "\n",
    "\n",
    "#Trying to open a file that does not exist, such as mistyping the file name or looking in the wrong directory.\n",
    "open('sample.txt') \n",
    "#No such file or directory: 'sample.txt'"
   ]
  },
  {
   "cell_type": "markdown",
   "id": "8c0ca322",
   "metadata": {},
   "source": [
    "# Question 10\n",
    "# Encryption is the process of hiding the meaning of a text by substituting letters in the\n",
    "# message with other letters, according to some system. If the process is successful, no\n",
    "# one but the intended recipient can understand the encrypted message. Cryptanalysis\n",
    "# refers to attempts to undo the encryption, even if some details of the encryption are\n",
    "# unknown (for example, if an encrypted message has been intercepted). The first step\n",
    "# of cryptanalysis is often to build up a table of letter frequencies in the encrypted text.\n",
    "# Assume that the string letters is already defined as\n",
    "# 'abcdefghijklmnopqrstuvwxyz'. Write a function called frequencies()\n",
    "# that takes a string as its only parameter, and returns a list of integers, showing the\n",
    "# number of times each character appears in the text. Your function may ignore any\n",
    "# characters that are not in letters. "
   ]
  },
  {
   "cell_type": "code",
   "execution_count": 104,
   "id": "8e116056",
   "metadata": {},
   "outputs": [],
   "source": [
    "def frequencies(text):\n",
    "    letters = 'abcdefghijklmnopqrstuvwxyz'\n",
    "    freq = [0] * 26\n",
    "    for char in text:\n",
    "        if char.lower() in letters:\n",
    "            freq[letters.index(char.lower())] += 1\n",
    "    return freq"
   ]
  },
  {
   "cell_type": "code",
   "execution_count": 105,
   "id": "7c7b081b",
   "metadata": {},
   "outputs": [
    {
     "data": {
      "text/plain": [
       "[1, 1, 1, 3, 5, 1, 1, 2, 1, 0, 1, 0, 1, 2, 4, 0, 1, 2, 0, 3, 1, 0, 1, 1, 0, 0]"
      ]
     },
     "execution_count": 105,
     "metadata": {},
     "output_type": "execute_result"
    }
   ],
   "source": [
    "frequencies('The quick red fox got bored and went home.')"
   ]
  },
  {
   "cell_type": "code",
   "execution_count": 106,
   "id": "a16238e1",
   "metadata": {},
   "outputs": [
    {
     "data": {
      "text/plain": [
       "[1, 0, 0, 0, 1, 0, 0, 0, 0, 0, 0, 1, 0, 0, 0, 2, 0, 0, 0, 0, 0, 0, 0, 0, 0, 0]"
      ]
     },
     "execution_count": 106,
     "metadata": {},
     "output_type": "execute_result"
    }
   ],
   "source": [
    "frequencies('apple')"
   ]
  },
  {
   "cell_type": "code",
   "execution_count": null,
   "id": "5949fdf7",
   "metadata": {},
   "outputs": [],
   "source": []
  }
 ],
 "metadata": {
  "kernelspec": {
   "display_name": "Python 3 (ipykernel)",
   "language": "python",
   "name": "python3"
  },
  "language_info": {
   "codemirror_mode": {
    "name": "ipython",
    "version": 3
   },
   "file_extension": ".py",
   "mimetype": "text/x-python",
   "name": "python",
   "nbconvert_exporter": "python",
   "pygments_lexer": "ipython3",
   "version": "3.10.9"
  }
 },
 "nbformat": 4,
 "nbformat_minor": 5
}
