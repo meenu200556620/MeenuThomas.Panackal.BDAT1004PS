{
 "cells": [
  {
   "cell_type": "markdown",
   "id": "a3c9e63e",
   "metadata": {},
   "source": [
    "# Question 1\n",
    "# Consider the following Python module:\n",
    "# a = 0\n",
    "# def b():\n",
    "# global a\n",
    "# a = c(a)\n",
    "# def c(a):\n",
    " # return a + 2\n",
    "# After importing the module into the interpreter, you execute:\n",
    "# >>> b()\n",
    "# >>> b()\n",
    "# >>> b()\n",
    "# >>> a\n",
    "# ?\n",
    "# What value is displayed when the last expression (a) is evaluated? Explain your\n",
    "# answer by indicating what happens in every executed statement."
   ]
  },
  {
   "cell_type": "code",
   "execution_count": 1,
   "id": "1b75c4e6",
   "metadata": {},
   "outputs": [],
   "source": [
    "a = 0\n",
    "def b():\n",
    " global a\n",
    " a = c(a)\n",
    "def c(a):\n",
    " return a + 2"
   ]
  },
  {
   "cell_type": "code",
   "execution_count": 2,
   "id": "09a77f2a",
   "metadata": {},
   "outputs": [
    {
     "data": {
      "text/plain": [
       "6"
      ]
     },
     "execution_count": 2,
     "metadata": {},
     "output_type": "execute_result"
    }
   ],
   "source": [
    "b()\n",
    "b()\n",
    "b()\n",
    "a"
   ]
  },
  {
   "cell_type": "code",
   "execution_count": 3,
   "id": "abdff9af",
   "metadata": {},
   "outputs": [],
   "source": [
    "#here, a=0 is a global variable.But inside the function if we declare a variable that would be local.so, inorder to \n",
    "#get the same value inside a function keyword 'global' is used.now the value of a is the same inside and outside the function.\n",
    "#In the function b() one another function is called ie, c().now the function c() is evaluated ,in c() a is added with 2.\n",
    "\n",
    "#so,when the first function b() is evaluated,it goes to fucntion c() there value of a=0 is added with 2\n",
    "# now a is 2, after executing the function b() again,it goes to fucntion c() there the value of a=2 is added with 2\n",
    "# now a is 4, after executing the fucntion b() agaian,it goes to the function c() there the value of a=4 is added with 2\n",
    "#now when the value a is evaluated final valaue is 6 is displayed."
   ]
  },
  {
   "cell_type": "markdown",
   "id": "a74f1e38",
   "metadata": {},
   "source": [
    "# Question 2\n",
    "# Function fileLength(), given to you, takes the name of a file as input and returns\n",
    "# the length of the file:"
   ]
  },
  {
   "cell_type": "code",
   "execution_count": 4,
   "id": "495a1e6f",
   "metadata": {},
   "outputs": [],
   "source": [
    "#here i have used the same function given in file_lenght.txt\n",
    "def filelength(file_name):\n",
    "    try:\n",
    "        file = open(file_name)\n",
    "        contents = file.read()\n",
    "        file.close()\n",
    "        print(len(contents))\n",
    "    except FileNotFoundError:\n",
    "        print(f\"File {file_name} not found.\")\n",
    "        \n",
    "    "
   ]
  },
  {
   "cell_type": "code",
   "execution_count": 5,
   "id": "f9687253",
   "metadata": {},
   "outputs": [
    {
     "name": "stdout",
     "output_type": "stream",
     "text": [
      "123\n"
     ]
    }
   ],
   "source": [
    "filelength('file.txt')"
   ]
  },
  {
   "cell_type": "code",
   "execution_count": 6,
   "id": "b1ed3076",
   "metadata": {},
   "outputs": [
    {
     "name": "stdout",
     "output_type": "stream",
     "text": [
      "File ile.txt not found.\n"
     ]
    }
   ],
   "source": [
    "filelength('ile.txt')"
   ]
  },
  {
   "cell_type": "markdown",
   "id": "d36e9bf0",
   "metadata": {},
   "source": [
    "# Question 3\n",
    "# Write a class named Marsupial that can be used as shown below:\n",
    "# >>> m = Marsupial()\n",
    "# >>> m.put_in_pouch('doll')\n",
    "# >>> m.put_in_pouch('firetruck')\n",
    "# >>> m.put_in_pouch('kitten')\n",
    "# >>> m.pouch_contents()\n",
    "# ['doll', 'firetruck', 'kitten']"
   ]
  },
  {
   "cell_type": "code",
   "execution_count": 7,
   "id": "fc87c049",
   "metadata": {},
   "outputs": [],
   "source": [
    "class Marsupial:\n",
    "    def __init__(self):\n",
    "        self.pouch=[]\n",
    "    def put_in_pouch(self,item):\n",
    "        self.pouch.append(item)\n",
    "    def pouch_contents(self):\n",
    "        print(self.pouch)"
   ]
  },
  {
   "cell_type": "code",
   "execution_count": 8,
   "id": "52609f8b",
   "metadata": {},
   "outputs": [],
   "source": [
    "m=Marsupial()\n",
    "m.put_in_pouch('doll')\n",
    "m.put_in_pouch('firetruck')\n",
    "m.put_in_pouch('kitten')\n"
   ]
  },
  {
   "cell_type": "code",
   "execution_count": 9,
   "id": "29862e6b",
   "metadata": {},
   "outputs": [
    {
     "name": "stdout",
     "output_type": "stream",
     "text": [
      "['doll', 'firetruck', 'kitten']\n"
     ]
    }
   ],
   "source": [
    "m.pouch_contents()"
   ]
  },
  {
   "cell_type": "code",
   "execution_count": 10,
   "id": "27fca016",
   "metadata": {},
   "outputs": [],
   "source": [
    "class Kangaroo(Marsupial):\n",
    "    def __init__(self, x, y):\n",
    "        super().__init__()\n",
    "        self.x = x\n",
    "        self.y = y\n",
    "\n",
    "    def jump(self, dx, dy):\n",
    "        self.x += dx\n",
    "        self.y += dy\n",
    "\n",
    "    def __str__(self):\n",
    "        return f\"I am a Kangaroo located at coordinates ({self.x}, {self.y})\"\n"
   ]
  },
  {
   "cell_type": "code",
   "execution_count": 11,
   "id": "807df487",
   "metadata": {},
   "outputs": [
    {
     "name": "stdout",
     "output_type": "stream",
     "text": [
      "I am a Kangaroo located at coordinates (0, 0)\n",
      "['doll', 'firetruck', 'kitten']\n",
      "I am a Kangaroo located at coordinates (3, 0)\n"
     ]
    }
   ],
   "source": [
    "k = Kangaroo(0,0)\n",
    "print(k)\n",
    "k.put_in_pouch('doll')\n",
    "k.put_in_pouch('firetruck')\n",
    "k.put_in_pouch('kitten')\n",
    "k.pouch_contents()\n",
    "k.jump(1,0)\n",
    "k.jump(1,0)\n",
    "k.jump(1,0)\n",
    "print(k)\n"
   ]
  },
  {
   "cell_type": "markdown",
   "id": "9a2a8f17",
   "metadata": {},
   "source": [
    "# Question 4\n",
    "# Write function collatz() that takes a positive integer x as input and prints the\n",
    "# Collatz sequence starting at x. A Collatz sequence is obtained by repeatedly applying\n",
    "# this rule to the previous number x in the sequence:\n",
    "# x = {\n",
    "# 𝑥/2 𝑖𝑓 𝑥 𝑖𝑠 𝑒𝑣𝑒𝑛\n",
    "# 3𝑥 + 1 𝑖𝑓 𝑥 𝑖𝑠 𝑜𝑑𝑑\n",
    "# Your function should stop when the sequence gets to number 1. Your\n",
    "# implementation must be recursive, without any loops."
   ]
  },
  {
   "cell_type": "code",
   "execution_count": 12,
   "id": "519f45c8",
   "metadata": {},
   "outputs": [],
   "source": [
    "def collatz(x):\n",
    "    print(x)\n",
    "    if x == 1:\n",
    "        return\n",
    "    elif x % 2 == 0:\n",
    "        val=x//2\n",
    "        collatz(val)\n",
    "    else:\n",
    "        val=3*x+1\n",
    "        collatz(val)"
   ]
  },
  {
   "cell_type": "code",
   "execution_count": 13,
   "id": "d1200eb3",
   "metadata": {},
   "outputs": [
    {
     "name": "stdout",
     "output_type": "stream",
     "text": [
      "1\n"
     ]
    }
   ],
   "source": [
    "collatz(1)"
   ]
  },
  {
   "cell_type": "code",
   "execution_count": 14,
   "id": "bcec2bcf",
   "metadata": {},
   "outputs": [
    {
     "name": "stdout",
     "output_type": "stream",
     "text": [
      "10\n",
      "5\n",
      "16\n",
      "8\n",
      "4\n",
      "2\n",
      "1\n"
     ]
    }
   ],
   "source": [
    "collatz(10)"
   ]
  },
  {
   "cell_type": "markdown",
   "id": "57184755",
   "metadata": {},
   "source": [
    "# Question 5\n",
    "\n",
    "# Write a recursive method binary() that takes a non-negative\n",
    "# integer n and prints the binary representation of integer n."
   ]
  },
  {
   "cell_type": "code",
   "execution_count": 15,
   "id": "8bf57dcf",
   "metadata": {},
   "outputs": [],
   "source": [
    "def binary(n):\n",
    "    if n > 1:\n",
    "        binary(n // 2)\n",
    "    print(n % 2, end='')"
   ]
  },
  {
   "cell_type": "code",
   "execution_count": 16,
   "id": "95fdaac4",
   "metadata": {},
   "outputs": [
    {
     "name": "stdout",
     "output_type": "stream",
     "text": [
      "0"
     ]
    }
   ],
   "source": [
    "binary(0)"
   ]
  },
  {
   "cell_type": "code",
   "execution_count": 17,
   "id": "2c548fc4",
   "metadata": {},
   "outputs": [
    {
     "name": "stdout",
     "output_type": "stream",
     "text": [
      "1"
     ]
    }
   ],
   "source": [
    "binary(1)"
   ]
  },
  {
   "cell_type": "code",
   "execution_count": 18,
   "id": "6f5f1510",
   "metadata": {},
   "outputs": [
    {
     "name": "stdout",
     "output_type": "stream",
     "text": [
      "11"
     ]
    }
   ],
   "source": [
    "binary(3)"
   ]
  },
  {
   "cell_type": "code",
   "execution_count": 19,
   "id": "9a845002",
   "metadata": {},
   "outputs": [
    {
     "name": "stdout",
     "output_type": "stream",
     "text": [
      "1001"
     ]
    }
   ],
   "source": [
    "binary(9)"
   ]
  },
  {
   "cell_type": "markdown",
   "id": "7789ec82",
   "metadata": {},
   "source": [
    "# Question 6\n",
    "# Implement a class named HeadingParser that can be used to parse an HTML\n",
    "# document, and retrieve and print all the headings in the document. You should\n",
    "# implement your class as a subclass of HTMLParser, defined in Standard Library\n",
    "# module html.parser. When fed a string containing HTML code, your class should\n",
    "# print the headings, one per line and in the order in which they appear in the\n",
    "# document. Each heading should be indented as follows: an h1 heading should have \n",
    "# indentation 0, and h2 heading should have indentation 1, etc. Test your\n",
    "# implementation using w3c.html."
   ]
  },
  {
   "cell_type": "code",
   "execution_count": 3,
   "id": "1e759ab2",
   "metadata": {},
   "outputs": [],
   "source": [
    "from html.parser import HTMLParser\n",
    "store=[]\n",
    "class HeadingParser(HTMLParser):\n",
    "    global store\n",
    "    def handle_starttag(self, tag, attrs):\n",
    "        store.append(tag)\n",
    "    def handle_data(self, data):\n",
    "        store.append(data)        \n",
    "    def handle_endtag(self,tag):\n",
    "        if(tag==\"html\"):\n",
    "            for var in store:\n",
    "                for htag in ('h1','h2','h3','h4','h5','h6'):\n",
    "                    if(var==htag):\n",
    "                        i=store.index(htag)\n",
    "                        print(store[i+1],end=\"\\n\\t\")"
   ]
  },
  {
   "cell_type": "code",
   "execution_count": 4,
   "id": "b2c02f48",
   "metadata": {},
   "outputs": [
    {
     "name": "stdout",
     "output_type": "stream",
     "text": [
      "W3C Mission\n",
      "\tPrinciples\n",
      "\t"
     ]
    }
   ],
   "source": [
    "parser = HeadingParser()\n",
    "infile = open('w3c.html')\n",
    "content = infile.read()\n",
    "infile.close()\n",
    "hp = HeadingParser()\n",
    "hp.feed(content)"
   ]
  },
  {
   "cell_type": "markdown",
   "id": "9426d70e",
   "metadata": {},
   "source": [
    "# Question 7\n",
    "# Implement recursive function webdir() that takes as input: a URL (as a string) and\n",
    "# non-negative integers depth and indent. Your function should visit every web\n",
    "# page reachable from the starting URL web page in depth clicks or less, and print\n",
    "# each web page's URL. As shown below, indentation, specified by indent, should\n",
    "# be used to indicate the depth of a URL."
   ]
  },
  {
   "cell_type": "code",
   "execution_count": 22,
   "id": "f144552b",
   "metadata": {},
   "outputs": [],
   "source": [
    "import requests\n",
    "from bs4 import BeautifulSoup\n",
    "\n",
    "\n",
    "def webdir(url, depth, indent):\n",
    "    if depth < 0:\n",
    "        return\n",
    "\n",
    "    response = requests.get(url)\n",
    "    soup = BeautifulSoup(response.content, 'html.parser')\n",
    "\n",
    "    print(' ' * indent + url)\n",
    "\n",
    "    if depth == 0:\n",
    "        return\n",
    "\n",
    "    for link in soup.find_all('a'):\n",
    "        href = link.get('href')\n",
    "        if href and href.startswith('http'):\n",
    "            webdir(href, depth - 1, indent + 1)\n"
   ]
  },
  {
   "cell_type": "code",
   "execution_count": 23,
   "id": "65c5f966",
   "metadata": {},
   "outputs": [
    {
     "name": "stdout",
     "output_type": "stream",
     "text": [
      "http://reed.cs.depaul.edu/lperkovic/csc242/test1.html\n"
     ]
    }
   ],
   "source": [
    "webdir('http://reed.cs.depaul.edu/lperkovic/csc242/test1.html'\n",
    ", 2, 0)"
   ]
  },
  {
   "cell_type": "markdown",
   "id": "e899cb2b",
   "metadata": {},
   "source": [
    "# Question 8\n",
    "# Write SQL queries on the below database table that return"
   ]
  },
  {
   "cell_type": "code",
   "execution_count": null,
   "id": "47742dfe",
   "metadata": {},
   "outputs": [],
   "source": [
    "a) All the temperature data.\n",
    "\n",
    "SELECT Temperature FROM weather;\n",
    "\n",
    "b) All the cities, but without repetition.\n",
    "\n",
    "SELECT DISTINCT City FROM weather;\n",
    "\n",
    "c) All the records for India.\n",
    "\n",
    "SELECT * FROM weather WHERE Country = 'India';\n",
    "\n",
    "d) All the Fall records.\n",
    "\n",
    "SELECT * FROM weather WHERE Season = 'Fall';\n",
    "\n",
    "e) The city, country, and season for which the average rainfall is between 200 and 400 millimeters.\n",
    "\n",
    "SELECT City, Country, Season FROM weather GROUP BY City, Country, Season HAVING AVG(Rainfall) BETWEEN 200 AND 400;\n",
    "\n",
    "f) The city and country for which the average Fall temperature is above 20\n",
    "\n",
    "degrees, in increasing temperature order.\n",
    "\n",
    "SELECT City, Country FROM weather WHERE Season = 'Fall' GROUP BY City, Country HAVING AVG(Temperature) > 20 ORDER BY AVG(Temperature) ASC;\n",
    "\n",
    "g) The total annual rainfall for Cairo.\n",
    "\n",
    "SELECT SUM(Rainfall) AS Total_Rainfall FROM weather WHERE City = 'Cairo';\n",
    "\n",
    "h) The total rainfall for each season.\n",
    "\n",
    "SELECT Season, SUM(Rainfall) AS Total_Rainfall FROM weather GROUP BY Season;"
   ]
  },
  {
   "cell_type": "markdown",
   "id": "3f42d229",
   "metadata": {},
   "source": [
    "# Question 9\n",
    "# . Suppose list words is defined as follows:\n",
    "# >>> words = ['The', 'quick', 'brown', 'fox', 'jumps', 'over',\n",
    "# 'the', 'lazy', 'dog']\n",
    "# Write list comprehension expressions that use list words and generate the following\n",
    "# lists:"
   ]
  },
  {
   "cell_type": "code",
   "execution_count": 49,
   "id": "3f1f9c70",
   "metadata": {},
   "outputs": [
    {
     "data": {
      "text/plain": [
       "['THE', 'QUICK', 'BROWN', 'FOX', 'JUMPS', 'OVER', 'THE', 'LAZY', 'DOG']"
      ]
     },
     "execution_count": 49,
     "metadata": {},
     "output_type": "execute_result"
    }
   ],
   "source": [
    "words = ['The', 'quick', 'brown', 'fox', 'jumps', 'over', 'the', 'lazy', 'dog']\n",
    "upper_words = [word.upper() for word in words]\n",
    "['THE', 'QUICK', 'BROWN', 'FOX', 'JUMPS', 'OVER', 'THE', 'LAZY', 'DOG']"
   ]
  },
  {
   "cell_type": "code",
   "execution_count": 50,
   "id": "10628afb",
   "metadata": {},
   "outputs": [
    {
     "data": {
      "text/plain": [
       "['the', 'quick', 'brown', 'fox', 'jumps', 'over', 'the', 'lazy', 'dog']"
      ]
     },
     "execution_count": 50,
     "metadata": {},
     "output_type": "execute_result"
    }
   ],
   "source": [
    "words = ['The', 'quick', 'brown', 'fox', 'jumps', 'over', 'the', 'lazy', 'dog']\n",
    "lower_words = [word.lower() for word in words]\n",
    "['the', 'quick', 'brown', 'fox', 'jumps', 'over', 'the', 'lazy', 'dog']"
   ]
  },
  {
   "cell_type": "code",
   "execution_count": 51,
   "id": "45338cc8",
   "metadata": {},
   "outputs": [
    {
     "name": "stdout",
     "output_type": "stream",
     "text": [
      "[3, 5, 5, 3, 5, 4, 3, 4, 3]\n"
     ]
    }
   ],
   "source": [
    "len_wds = [len(word) for word in words]\n",
    "print(len_wds)"
   ]
  },
  {
   "cell_type": "code",
   "execution_count": 52,
   "id": "563c3f9f",
   "metadata": {},
   "outputs": [
    {
     "name": "stdout",
     "output_type": "stream",
     "text": [
      "[['THE', 'the', 3], ['QUICK', 'quick', 5], ['BROWN', 'brown', 5], ['FOX', 'fox', 3], ['JUMPS', 'jumps', 5], ['OVER', 'over', 4], ['THE', 'the', 3], ['LAZY', 'lazy', 4], ['DOG', 'dog', 3]]\n"
     ]
    }
   ],
   "source": [
    "res_d = [[word.upper(), word.lower(), len(word)] for word in words]\n",
    "print(res_d)"
   ]
  },
  {
   "cell_type": "code",
   "execution_count": 53,
   "id": "355aee54",
   "metadata": {},
   "outputs": [
    {
     "name": "stdout",
     "output_type": "stream",
     "text": [
      "['quick', 'brown', 'jumps', 'over', 'lazy']\n"
     ]
    }
   ],
   "source": [
    "res_e = [word for word in words if len(word) >= 4]\n",
    "print(res_e)"
   ]
  },
  {
   "cell_type": "code",
   "execution_count": null,
   "id": "d27d6cda",
   "metadata": {},
   "outputs": [],
   "source": []
  }
 ],
 "metadata": {
  "kernelspec": {
   "display_name": "Python 3 (ipykernel)",
   "language": "python",
   "name": "python3"
  },
  "language_info": {
   "codemirror_mode": {
    "name": "ipython",
    "version": 3
   },
   "file_extension": ".py",
   "mimetype": "text/x-python",
   "name": "python",
   "nbconvert_exporter": "python",
   "pygments_lexer": "ipython3",
   "version": "3.10.9"
  }
 },
 "nbformat": 4,
 "nbformat_minor": 5
}
